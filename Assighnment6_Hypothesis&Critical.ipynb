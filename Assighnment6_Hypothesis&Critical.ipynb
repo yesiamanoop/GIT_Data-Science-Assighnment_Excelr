{
  "nbformat": 4,
  "nbformat_minor": 0,
  "metadata": {
    "colab": {
      "provenance": []
    },
    "kernelspec": {
      "name": "python3",
      "display_name": "Python 3"
    },
    "language_info": {
      "name": "python"
    }
  },
  "cells": [
    {
      "cell_type": "markdown",
      "source": [
        "# HYPOTHESIS TESTING"
      ],
      "metadata": {
        "id": "Av1TkwUfxZtU"
      }
    },
    {
      "cell_type": "markdown",
      "source": [
        "1. State the Hypotheses statement:\n",
        "2. Calculate the Test Statistic:\n",
        "\n",
        "Use the following formula to calculate the test statistic(z):\n",
        "where:\n",
        "\n",
        "●\tˉxˉ = sample mean weekly cost (Rs. 3,050)\n",
        "\n",
        "●\tμ = theoretical mean weekly cost according to the cost model (W = $1,000 + $5X for X = 600 units)\n",
        "\n",
        "●\tσ = 5*25 units\n",
        "\n",
        "●\tn = sample size (25 restaurants)\n",
        "\n",
        "\n",
        "3. Determine the Probability and compare:\n",
        "\n",
        "Using the alpha level of 5% (α = 0.05),\n",
        "\n",
        "4. Make a Decision:\n",
        "\n",
        "Compare the test statistic with the critical value to decide whether to reject the null hypothesis.\n",
        "\n",
        "5. Conclusion:\n",
        "\n",
        "Based on the decision in step 4, conclude whether there is strong evidence to support the restaurant owners' claim that the weekly operating costs are higher than the model suggests.\n"
      ],
      "metadata": {
        "id": "u6mtT6OTx5-L"
      }
    },
    {
      "cell_type": "markdown",
      "source": [
        "# Hypotheses Statement:\n",
        "\n",
        "Null Hypothesis (H0):\n",
        "The weekly operating cost model is accurate,\n",
        "meaning the mean weekly operating cost is as per the model.\n",
        "H0: μ = 1000 + 5 * 600 = 4000\n",
        "\n",
        "Alternative Hypothesis (H1):\n",
        "The weekly operating cost is higher than the model suggests.\n",
        "H1: μ > 4000\n",
        "\n",
        "This is a one-tailed test to check if the actual mean cost\n",
        "is significantly greater than the theoretical mean cost predicted by the model.\n"
      ],
      "metadata": {
        "id": "2-2-6QEicek8"
      }
    },
    {
      "cell_type": "code",
      "execution_count": null,
      "metadata": {
        "id": "tIv5-nwRxSfr",
        "colab": {
          "base_uri": "https://localhost:8080/"
        },
        "outputId": "c15a075a-615a-4fcf-f326-ddfae7d601f0"
      },
      "outputs": [
        {
          "output_type": "stream",
          "name": "stdout",
          "text": [
            "Sample Mean: 3050\n",
            "Expected Mean under H0: 4000\n",
            "Standard Deviation of Cost: 125\n",
            "Sample Size: 25\n",
            "Test Statistic (Z): -38.00\n",
            "Critical value (Z_alpha): 1.64\n",
            "Fail to Reject Null Hypothesis: Not enough evidence costs increased.\n"
          ]
        }
      ],
      "source": [
        "import math\n",
        "from scipy.stats import norm\n",
        "\n",
        "\n",
        "sample_mean = 3050\n",
        "expected_mean = 1000 + 5*600\n",
        "std_dev_units = 25\n",
        "std_dev = 5 * std_dev_units\n",
        "sample_size = 25\n",
        "alpha = 0.05      # Significance level\n",
        "\n",
        "# Calculate standard error\n",
        "std_error = std_dev / math.sqrt(sample_size)\n",
        "\n",
        "# Calculate Z test statistic\n",
        "z = (sample_mean - expected_mean) / std_error\n",
        "\n",
        "# Calculate critical z-value for right-tailed test (alpha=0.05)\n",
        "z_critical = norm.ppf(1 - alpha)\n",
        "\n",
        "# Print results\n",
        "print(f\"Sample Mean: {sample_mean}\")\n",
        "print(f\"Expected Mean under H0: {expected_mean}\")\n",
        "print(f\"Standard Deviation of Cost: {std_dev}\")\n",
        "print(f\"Sample Size: {sample_size}\")\n",
        "print(f\"Test Statistic (Z): {z:.2f}\")\n",
        "print(f\"Critical value (Z_alpha): {z_critical:.2f}\")\n",
        "\n",
        "# Decision\n",
        "if z > z_critical:\n",
        "    print(\"Reject Null Hypothesis: Evidence costs are higher than the model predicts.\")\n",
        "else:\n",
        "    print(\"Fail to Reject Null Hypothesis: Not enough evidence costs increased.\")\n"
      ]
    },
    {
      "cell_type": "markdown",
      "source": [
        "# ESTIMATION AND CONFIDENCE INTERVALS\n",
        "\n",
        "Assignment Tasks\n",
        "\n",
        "a. Build 99% Confidence Interval Using Sample Standard Deviation\n",
        "Assuming the sample is representative of the population, construct a 99% confidence interval for the mean number of characters printed before the print-head fails using the sample standard deviation. Explain the steps you take and the rationale behind using the t-distribution for this task.\n",
        "\n",
        "b. Build 99% Confidence Interval Using Known Population Standard Deviation\n",
        "If it were known that the population standard deviation is 0.2 million characters, construct a 99% confidence interval for the mean number of characters printed before failure.\n"
      ],
      "metadata": {
        "id": "JEA6sC20exfT"
      }
    },
    {
      "cell_type": "code",
      "source": [
        "import numpy as np\n",
        "import scipy.stats as stats\n",
        "import math"
      ],
      "metadata": {
        "id": "3Na9qIcT6hjH"
      },
      "execution_count": null,
      "outputs": []
    },
    {
      "cell_type": "code",
      "source": [
        "data=[1.13, 1.55, 1.43, 0.92, 1.25, 1.36, 1.32, 0.85, 1.07, 1.48, 1.20, 1.33, 1.18, 1.22, 1.29]\n",
        "sample_size=len(data)\n",
        "sample_mean=np.mean(data)\n",
        "sample_std=np.std(data, ddof=1)\n",
        "confidence=0.99\n",
        "#(t-distribution)\n",
        "degrees_freedom=sample_size - 1\n",
        "t_critical=stats.t.ppf((1 + confidence) / 2, degrees_freedom)\n",
        "standard_error_t=sample_std / math.sqrt(sample_size)\n",
        "margin_of_error_t=t_critical * standard_error_t\n",
        "ci_lower_t=sample_mean - margin_of_error_t\n",
        "ci_upper_t=sample_mean + margin_of_error_t\n",
        "\n",
        "print(f\"99% Confidence Interval using Sample Std Dev (t-distribution): ({ci_lower_t:.4f}, {ci_upper_t:.4f})\")"
      ],
      "metadata": {
        "colab": {
          "base_uri": "https://localhost:8080/"
        },
        "id": "nbZuFEZBggqP",
        "outputId": "60b1ec73-d424-4e09-c790-42aea89ba9eb"
      },
      "execution_count": null,
      "outputs": [
        {
          "output_type": "stream",
          "name": "stdout",
          "text": [
            "99% Confidence Interval using Sample Std Dev (t-distribution): (1.0902, 1.3871)\n"
          ]
        }
      ]
    },
    {
      "cell_type": "code",
      "source": [
        "#(z-distribution)\n",
        "population_std = 0.2\n",
        "z_critical = stats.norm.ppf((1 + confidence) / 2)\n",
        "standard_error_z = population_std / math.sqrt(sample_size)\n",
        "margin_of_error_z = z_critical * standard_error_z\n",
        "ci_lower_z = sample_mean - margin_of_error_z\n",
        "ci_upper_z = sample_mean + margin_of_error_z\n",
        "\n",
        "print(f\"99% Confidence Interval using Known Population Std Dev (normal distribution): ({ci_lower_z:.4f}, {ci_upper_z:.4f})\")"
      ],
      "metadata": {
        "colab": {
          "base_uri": "https://localhost:8080/"
        },
        "id": "n0pu6E1YgbMO",
        "outputId": "4ec8ca0e-ca9e-48b7-cd2a-bf72437e4fae"
      },
      "execution_count": null,
      "outputs": [
        {
          "output_type": "stream",
          "name": "stdout",
          "text": [
            "99% Confidence Interval using Known Population Std Dev (normal distribution): (1.1057, 1.3717)\n"
          ]
        }
      ]
    },
    {
      "cell_type": "code",
      "source": [],
      "metadata": {
        "id": "ilheyai5gxJV"
      },
      "execution_count": null,
      "outputs": []
    }
  ]
}