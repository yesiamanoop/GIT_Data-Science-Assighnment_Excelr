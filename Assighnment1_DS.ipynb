{
  "nbformat": 4,
  "nbformat_minor": 0,
  "metadata": {
    "colab": {
      "provenance": []
    },
    "kernelspec": {
      "name": "python3",
      "display_name": "Python 3"
    },
    "language_info": {
      "name": "python"
    }
  },
  "cells": [
    {
      "cell_type": "markdown",
      "source": [
        "# **Exercise 1**: Prime Numbers\n",
        "Write a Python program that checks whether a given number is prime or not. A\n",
        "prime number is a natural number greater than 1 that has no positive divisors other than 1 and itself.\n"
      ],
      "metadata": {
        "id": "bR-o5otPnn8n"
      }
    },
    {
      "cell_type": "code",
      "execution_count": 24,
      "metadata": {
        "colab": {
          "base_uri": "https://localhost:8080/"
        },
        "id": "XYd3QkOqnbpy",
        "outputId": "1de31827-ca65-45c7-fbba-9064de0ad822"
      },
      "outputs": [
        {
          "output_type": "stream",
          "name": "stdout",
          "text": [
            "Enter Your Number2\n",
            "prime\n"
          ]
        }
      ],
      "source": [
        "num = int(input(\"Enter Your Number\"))\n",
        "if num > 1:\n",
        "    for i in range(2, num):\n",
        "        if num % i == 0:\n",
        "            print(\"Not prime\")\n",
        "            break\n",
        "    else:\n",
        "        print(\"prime\")\n",
        "else:\n",
        "    print(\"Not prime\")\n",
        "\n",
        "\n",
        "\n"
      ]
    },
    {
      "cell_type": "markdown",
      "source": [
        "# ** Exercise 2: Product of Random Numbers**\n",
        "Develop a Python program that generates two random numbers and asks the user to enter the product of these numbers. The program should then check if the user's answer is correct and display an appropriate message.\n"
      ],
      "metadata": {
        "id": "jtuLCrPn8nPZ"
      }
    },
    {
      "cell_type": "code",
      "source": [
        "import random\n",
        "n1=random.randint(1,10)\n",
        "n2=random.randint(1,10)\n",
        "print(f\"{n1} * {n2} =\")\n",
        "mul=(n1*n2)\n",
        "pred=int(input(\"Predict the product\"))\n",
        "if (pred==mul):\n",
        "    print(\"GREAT! You are a mathematician\")\n",
        "else:\n",
        "    print(\"Better Luck Next Time\")\n"
      ],
      "metadata": {
        "colab": {
          "base_uri": "https://localhost:8080/"
        },
        "id": "U5Anxx8DqGK6",
        "outputId": "81694f86-8a76-4df5-e948-7c741aedd796"
      },
      "execution_count": 47,
      "outputs": [
        {
          "output_type": "stream",
          "name": "stdout",
          "text": [
            "2 * 4 =\n",
            "Predict the product8\n",
            "GREAT! You are a mathematician\n"
          ]
        }
      ]
    },
    {
      "cell_type": "markdown",
      "source": [
        "# Exercise 3: Squares of Even/Odd Numbers\n",
        "Create a Python script that prints the squares of all even or odd numbers within the range of 100 to 200. Choose either even or odd numbers and document your choice in the code.\n"
      ],
      "metadata": {
        "id": "gBQ7qrK2B4mv"
      }
    },
    {
      "cell_type": "code",
      "source": [
        "print(\"SQUARE OF EVEN NUMBERS\")\n",
        "for i in range(100,200):\n",
        "  if(i%2==0):\n",
        "    print(f\"{i}*{i}={i*i}\")"
      ],
      "metadata": {
        "colab": {
          "base_uri": "https://localhost:8080/"
        },
        "id": "8E5hBg0GADid",
        "outputId": "c541986f-52f9-48ba-9a83-0fec65dfb53b"
      },
      "execution_count": 48,
      "outputs": [
        {
          "output_type": "stream",
          "name": "stdout",
          "text": [
            "SQUARE OF EVEN NUMBERS\n",
            "100*100=10000\n",
            "102*102=10404\n",
            "104*104=10816\n",
            "106*106=11236\n",
            "108*108=11664\n",
            "110*110=12100\n",
            "112*112=12544\n",
            "114*114=12996\n",
            "116*116=13456\n",
            "118*118=13924\n",
            "120*120=14400\n",
            "122*122=14884\n",
            "124*124=15376\n",
            "126*126=15876\n",
            "128*128=16384\n",
            "130*130=16900\n",
            "132*132=17424\n",
            "134*134=17956\n",
            "136*136=18496\n",
            "138*138=19044\n",
            "140*140=19600\n",
            "142*142=20164\n",
            "144*144=20736\n",
            "146*146=21316\n",
            "148*148=21904\n",
            "150*150=22500\n",
            "152*152=23104\n",
            "154*154=23716\n",
            "156*156=24336\n",
            "158*158=24964\n",
            "160*160=25600\n",
            "162*162=26244\n",
            "164*164=26896\n",
            "166*166=27556\n",
            "168*168=28224\n",
            "170*170=28900\n",
            "172*172=29584\n",
            "174*174=30276\n",
            "176*176=30976\n",
            "178*178=31684\n",
            "180*180=32400\n",
            "182*182=33124\n",
            "184*184=33856\n",
            "186*186=34596\n",
            "188*188=35344\n",
            "190*190=36100\n",
            "192*192=36864\n",
            "194*194=37636\n",
            "196*196=38416\n",
            "198*198=39204\n"
          ]
        }
      ]
    },
    {
      "cell_type": "markdown",
      "source": [
        "# Problem Statement (Question): Hospital Billing System\n",
        "A hospital charges its patients based on the following:\n",
        "•\tRoom charges per day: ₹2,000\n",
        "•\tDoctor consultation fee (flat): ₹1,500\n",
        "•\tLab test charges: Based on the number of tests taken. Each test costs ₹300\n",
        "•\tMedicine charges: Total cost of medicines provided\n",
        "•\tDiscount: If the total bill (before discount) exceeds ₹10,000, a 10% discount is applied\n",
        "Write a Python program to calculate the final bill for a patient who:\n",
        "•\tStayed for 4 days\n",
        "•\tHad 3 lab tests\n",
        "•\tHad medicine charges of ₹2,400\n",
        "\n"
      ],
      "metadata": {
        "id": "M_B9faTdFVfX"
      }
    },
    {
      "cell_type": "code",
      "source": [
        "D=int(input(\"Enter the number of days patient admitted \"))\n",
        "L=int(input(\"Total Lab tests done for the patient \"))\n",
        "M=int(input(\"Total medical bill for the patient Rs\"))\n",
        "\n",
        "D_amount=(D*2000)\n",
        "L_amount=(L*300)\n",
        "DC=1500\n",
        "T_amount=(D_amount+L_amount+DC+M)\n",
        "if T_amount > 10000:\n",
        "    T_amount = T_amount - (T_amount * 10 / 100)\n",
        "\n",
        "\n",
        "print(\"\\n\\t\\t BILL SUMMARY\")\n",
        "print(f\"\\n Room Bill= Rs{D_amount} \")\n",
        "print(f\"\\n Lab test Bill= Rs{L_amount} \")\n",
        "print(f\"\\n Doctor Consulation Fee= Rs{DC} \")\n",
        "print(f\"\\n Medical Bill= Rs{M} \")\n",
        "print(f\"\\n Total Amount===== Rs{T_amount} \")\n",
        "\n",
        "\n"
      ],
      "metadata": {
        "colab": {
          "base_uri": "https://localhost:8080/"
        },
        "id": "INIMfQfBEqj7",
        "outputId": "9e143d09-c291-4e8a-d951-1af8e2728058"
      },
      "execution_count": 55,
      "outputs": [
        {
          "output_type": "stream",
          "name": "stdout",
          "text": [
            "Enter the number of days patient admitted 4\n",
            "Total Lab tests done for the patient 3\n",
            "Total medical bill for the patient Rs2400\n",
            "\n",
            "\t\t BILL SUMMARY\n",
            "\n",
            " Room Bill= Rs8000 \n",
            "\n",
            " Lab test Bill= Rs900 \n",
            "\n",
            " Doctor Consulation Fee= Rs1500 \n",
            "\n",
            " Medical Bill= Rs2400 \n",
            "\n",
            " Total Amount===== Rs11520.0 \n"
          ]
        }
      ]
    },
    {
      "cell_type": "code",
      "source": [],
      "metadata": {
        "id": "C2QM_lzwNdX-"
      },
      "execution_count": null,
      "outputs": []
    }
  ]
}