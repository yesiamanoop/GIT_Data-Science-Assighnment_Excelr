{
  "nbformat": 4,
  "nbformat_minor": 0,
  "metadata": {
    "colab": {
      "provenance": []
    },
    "kernelspec": {
      "name": "python3",
      "display_name": "Python 3"
    },
    "language_info": {
      "name": "python"
    }
  },
  "cells": [
    {
      "cell_type": "markdown",
      "source": [
        "# Section A: Data Structures & Control Structures"
      ],
      "metadata": {
        "id": "7Vle9SXwpX-S"
      }
    },
    {
      "cell_type": "markdown",
      "source": [
        "1.\tCreate a list of 5 integers. Perform and print the result of the following operations: append, extend, insert, remove, pop, clear, index, count, sort, and reverse."
      ],
      "metadata": {
        "id": "mpjH3ADapj-6"
      }
    },
    {
      "cell_type": "code",
      "execution_count": 38,
      "metadata": {
        "id": "nMRuTQPKpQv3"
      },
      "outputs": [],
      "source": [
        "list1=[11,22,33,44,55]\n"
      ]
    },
    {
      "cell_type": "code",
      "source": [
        "#APPEND FUNCTION\n",
        "list1.append(66)\n",
        "list1"
      ],
      "metadata": {
        "colab": {
          "base_uri": "https://localhost:8080/"
        },
        "id": "VtWio48Fp1pO",
        "outputId": "6efea75f-0150-4c51-91ef-800e48906cbb"
      },
      "execution_count": 39,
      "outputs": [
        {
          "output_type": "execute_result",
          "data": {
            "text/plain": [
              "[11, 22, 33, 44, 55, 66]"
            ]
          },
          "metadata": {},
          "execution_count": 39
        }
      ]
    },
    {
      "cell_type": "code",
      "source": [
        "#EXTEND FUNCTION\n",
        "list1.extend([77,88])\n",
        "list1"
      ],
      "metadata": {
        "colab": {
          "base_uri": "https://localhost:8080/"
        },
        "id": "fdPVHYVqp8wK",
        "outputId": "daaf502e-02a2-49d2-958b-bb83d8ebe68e"
      },
      "execution_count": 40,
      "outputs": [
        {
          "output_type": "execute_result",
          "data": {
            "text/plain": [
              "[11, 22, 33, 44, 55, 66, 77, 88]"
            ]
          },
          "metadata": {},
          "execution_count": 40
        }
      ]
    },
    {
      "cell_type": "code",
      "source": [
        "#INSERT FUNCTION\n",
        "list1.insert(0,0)\n",
        "list1"
      ],
      "metadata": {
        "colab": {
          "base_uri": "https://localhost:8080/"
        },
        "id": "rNc4bcg-qN-i",
        "outputId": "8df31df5-85f3-4f14-bca8-84874829c8b5"
      },
      "execution_count": 41,
      "outputs": [
        {
          "output_type": "execute_result",
          "data": {
            "text/plain": [
              "[0, 11, 22, 33, 44, 55, 66, 77, 88]"
            ]
          },
          "metadata": {},
          "execution_count": 41
        }
      ]
    },
    {
      "cell_type": "code",
      "source": [
        "#REMOVE FUNCTION\n",
        "list1.remove(11)\n",
        "list1"
      ],
      "metadata": {
        "colab": {
          "base_uri": "https://localhost:8080/"
        },
        "id": "Zl415_jhrHCl",
        "outputId": "f3245001-2329-4389-e6d4-99482d3a42fe"
      },
      "execution_count": 43,
      "outputs": [
        {
          "output_type": "execute_result",
          "data": {
            "text/plain": [
              "[0, 22, 33, 44, 55, 66, 77, 88]"
            ]
          },
          "metadata": {},
          "execution_count": 43
        }
      ]
    },
    {
      "cell_type": "code",
      "source": [
        "#POP FUNCTION\n",
        "list1.pop(3)\n",
        "list1"
      ],
      "metadata": {
        "colab": {
          "base_uri": "https://localhost:8080/"
        },
        "id": "iWRDdTwprRtM",
        "outputId": "a885515d-2260-4606-b700-27631f50dc25"
      },
      "execution_count": 44,
      "outputs": [
        {
          "output_type": "execute_result",
          "data": {
            "text/plain": [
              "[0, 22, 33, 55, 66, 77, 88]"
            ]
          },
          "metadata": {},
          "execution_count": 44
        }
      ]
    },
    {
      "cell_type": "code",
      "source": [
        "#CLEAR FUNCTION\n",
        "list1.clear()\n",
        "list1"
      ],
      "metadata": {
        "colab": {
          "base_uri": "https://localhost:8080/"
        },
        "id": "zl9CPg2CrWtJ",
        "outputId": "481ab471-5606-4b69-cd0a-44fd5941d612"
      },
      "execution_count": 35,
      "outputs": [
        {
          "output_type": "execute_result",
          "data": {
            "text/plain": [
              "[]"
            ]
          },
          "metadata": {},
          "execution_count": 35
        }
      ]
    },
    {
      "cell_type": "code",
      "source": [
        "#INDEX FUNCTION\n",
        "list1.index(22)\n"
      ],
      "metadata": {
        "colab": {
          "base_uri": "https://localhost:8080/"
        },
        "id": "GBIdGGD-rzjL",
        "outputId": "c1846250-c743-43b6-b9bd-983c9a00360b"
      },
      "execution_count": 47,
      "outputs": [
        {
          "output_type": "execute_result",
          "data": {
            "text/plain": [
              "1"
            ]
          },
          "metadata": {},
          "execution_count": 47
        }
      ]
    },
    {
      "cell_type": "code",
      "source": [
        "#COUNT FUNCTION\n",
        "list1.count(22)"
      ],
      "metadata": {
        "colab": {
          "base_uri": "https://localhost:8080/"
        },
        "id": "QjR3RllrsSU5",
        "outputId": "3710e785-0c6b-4c19-c348-626d23e34fb0"
      },
      "execution_count": 49,
      "outputs": [
        {
          "output_type": "execute_result",
          "data": {
            "text/plain": [
              "1"
            ]
          },
          "metadata": {},
          "execution_count": 49
        }
      ]
    },
    {
      "cell_type": "code",
      "source": [
        "#SORT FUNCTION\n",
        "list1.sort(reverse=True)\n",
        "list1"
      ],
      "metadata": {
        "colab": {
          "base_uri": "https://localhost:8080/"
        },
        "id": "YGis4Vyxscbj",
        "outputId": "adac6f31-a766-42ab-f0e6-6535fdaf4592"
      },
      "execution_count": 54,
      "outputs": [
        {
          "output_type": "execute_result",
          "data": {
            "text/plain": [
              "[88, 77, 66, 55, 33, 22, 0]"
            ]
          },
          "metadata": {},
          "execution_count": 54
        }
      ]
    },
    {
      "cell_type": "code",
      "source": [
        "#REVERSE FUNCTION\n",
        "list1.reverse()\n",
        "list1"
      ],
      "metadata": {
        "colab": {
          "base_uri": "https://localhost:8080/"
        },
        "id": "RoFpQ5RosmXV",
        "outputId": "1ccd1bed-08ae-409c-9548-133aa2a3fd5e"
      },
      "execution_count": 56,
      "outputs": [
        {
          "output_type": "execute_result",
          "data": {
            "text/plain": [
              "[88, 77, 66, 55, 33, 22, 0]"
            ]
          },
          "metadata": {},
          "execution_count": 56
        }
      ]
    },
    {
      "cell_type": "markdown",
      "source": [
        "2.\tCreate a tuple that stores 3 student names. Try changing the second name in the tuple. What happens? Explain why."
      ],
      "metadata": {
        "id": "FZrbhLKotOU_"
      }
    },
    {
      "cell_type": "code",
      "source": [
        "Tuple=(\"Anoop\",\"Mohan\",\"Neeraj\")\n",
        "Tuple[1]=\"Mohanty\"\n",
        "Tuple\n",
        "# ANSWER:- The value inside the tuple didnt changed because tuples are immutable if you want to change anything in future try using list beacause it is mutable"
      ],
      "metadata": {
        "colab": {
          "base_uri": "https://localhost:8080/",
          "height": 176
        },
        "collapsed": true,
        "id": "W2WAzScRtJHJ",
        "outputId": "da14b1f7-9c65-414c-c5bd-cc8dbdb58339"
      },
      "execution_count": 60,
      "outputs": [
        {
          "output_type": "error",
          "ename": "TypeError",
          "evalue": "'tuple' object does not support item assignment",
          "traceback": [
            "\u001b[0;31m---------------------------------------------------------------------------\u001b[0m",
            "\u001b[0;31mTypeError\u001b[0m                                 Traceback (most recent call last)",
            "\u001b[0;32m/tmp/ipython-input-2212555617.py\u001b[0m in \u001b[0;36m<cell line: 0>\u001b[0;34m()\u001b[0m\n\u001b[1;32m      1\u001b[0m \u001b[0mTuple\u001b[0m\u001b[0;34m=\u001b[0m\u001b[0;34m(\u001b[0m\u001b[0;34m\"Anoop\"\u001b[0m\u001b[0;34m,\u001b[0m\u001b[0;34m\"Mohan\"\u001b[0m\u001b[0;34m,\u001b[0m\u001b[0;34m\"Neeraj\"\u001b[0m\u001b[0;34m)\u001b[0m\u001b[0;34m\u001b[0m\u001b[0;34m\u001b[0m\u001b[0m\n\u001b[0;32m----> 2\u001b[0;31m \u001b[0mTuple\u001b[0m\u001b[0;34m[\u001b[0m\u001b[0;36m1\u001b[0m\u001b[0;34m]\u001b[0m\u001b[0;34m=\u001b[0m\u001b[0;34m\"Mohanty\"\u001b[0m\u001b[0;34m\u001b[0m\u001b[0;34m\u001b[0m\u001b[0m\n\u001b[0m\u001b[1;32m      3\u001b[0m \u001b[0mTuple\u001b[0m\u001b[0;34m\u001b[0m\u001b[0;34m\u001b[0m\u001b[0m\n",
            "\u001b[0;31mTypeError\u001b[0m: 'tuple' object does not support item assignment"
          ]
        }
      ]
    },
    {
      "cell_type": "markdown",
      "source": [
        "3.\tCreate a set of integers with some duplicate values. Print the set and explain the output."
      ],
      "metadata": {
        "id": "y6pHMVs9uMVG"
      }
    },
    {
      "cell_type": "code",
      "source": [
        "set1={1,1,2,2,3,3,4,5,3}\n",
        "set1\n",
        "#ANSWER:- In Set the duplicates values get removes thus remaining with unique values so if we want to make a list were we dont want to have duplicate values we can use sets\n"
      ],
      "metadata": {
        "colab": {
          "base_uri": "https://localhost:8080/"
        },
        "id": "ZucUvWVCtlnj",
        "outputId": "2c1e8994-dabe-47f6-d565-3e112358ed04"
      },
      "execution_count": 64,
      "outputs": [
        {
          "output_type": "execute_result",
          "data": {
            "text/plain": [
              "{1, 2, 3, 4, 5}"
            ]
          },
          "metadata": {},
          "execution_count": 64
        }
      ]
    },
    {
      "cell_type": "markdown",
      "source": [
        "4.\tCreate a dictionary with the keys: 'name', 'age', and 'city'. Update the age and add a new key 'email'. Print the final dictionary."
      ],
      "metadata": {
        "id": "KKtxjUSlu6G1"
      }
    },
    {
      "cell_type": "code",
      "source": [
        "dict1={\"Name\":\"Anoop\",\"age\":23,\"city\":\"Hyderabad\"}\n",
        "dict1[\"email\"]=dict1.pop(\"age\")\n",
        "dict1"
      ],
      "metadata": {
        "colab": {
          "base_uri": "https://localhost:8080/"
        },
        "id": "APA37yYBudvZ",
        "outputId": "d68b4723-117f-4f84-a57d-703035cb4145"
      },
      "execution_count": 69,
      "outputs": [
        {
          "output_type": "execute_result",
          "data": {
            "text/plain": [
              "{'Name': 'Anoop', 'city': 'Hyderabad', 'email': 23}"
            ]
          },
          "metadata": {},
          "execution_count": 69
        }
      ]
    },
    {
      "cell_type": "markdown",
      "source": [
        "5. Write a script that checks if a person is eligible to vote (age ≥ 18). Take age as a variable and print the appropriate message."
      ],
      "metadata": {
        "id": "hY5-ii5awklk"
      }
    },
    {
      "cell_type": "code",
      "source": [
        "age=int(input(\"Enter Your Age\"))\n",
        "if (age>=18):\n",
        "  print(\"YOU ARE ELIGIBLE FOR VOTING\")\n",
        "else:\n",
        "  print(\"YOU ARE NOT ELIGIBLE FOR VOTING\")"
      ],
      "metadata": {
        "colab": {
          "base_uri": "https://localhost:8080/"
        },
        "id": "EYV005CQveMm",
        "outputId": "5672d5cc-f035-4674-ae60-08323f1767a0"
      },
      "execution_count": 70,
      "outputs": [
        {
          "output_type": "stream",
          "name": "stdout",
          "text": [
            "Enter Your Age24\n",
            "YOU ARE ELIGIBLE FOR VOTING\n"
          ]
        }
      ]
    },
    {
      "cell_type": "markdown",
      "source": [
        "6. Given a 'marks' variable, print the grade:\n",
        "- 90 and above: 'A'\n",
        "- 75–89: 'B'\n",
        "- 50–74: 'C'\n",
        "- Below 50: 'Fail'\n"
      ],
      "metadata": {
        "id": "m4yLd2kAxfB4"
      }
    },
    {
      "cell_type": "code",
      "source": [
        "marks=int(input(\"Enter Your Marks\"))\n",
        "if (marks>=90):\n",
        "  print(\"'A'\")\n",
        "elif(marks<=89&marks>=75):\n",
        "  print(\"'B'\")\n",
        "elif(marks<=74&marks>=50):\n",
        "  print(\"'C'\")\n",
        "elif(marks<50):\n",
        "  print(\"FAIL\")\n",
        "else:\n",
        "  print(\"INVALID INPUT\")"
      ],
      "metadata": {
        "colab": {
          "base_uri": "https://localhost:8080/"
        },
        "id": "8PLdr8NuxcxA",
        "outputId": "53dc48c0-dbf5-4b1e-8ef9-d9395fe9c1ec"
      },
      "execution_count": 76,
      "outputs": [
        {
          "output_type": "stream",
          "name": "stdout",
          "text": [
            "Enter Your Marks88\n",
            "'B'\n"
          ]
        }
      ]
    },
    {
      "cell_type": "markdown",
      "source": [
        "7.\tGiven a number, check if it's positive, and if it is also even. If not positive, print if it's zero or negative."
      ],
      "metadata": {
        "id": "dwCkcXL6y0sD"
      }
    },
    {
      "cell_type": "code",
      "source": [
        "num=int(input(\"Enter A Number\"))\n",
        "if(num==0):\n",
        "  print(\"Its a Zero\")\n",
        "elif(num>0):\n",
        "  print(\"Its a positive number\")\n",
        "else:\n",
        "  print(\"Its a negative number\")"
      ],
      "metadata": {
        "colab": {
          "base_uri": "https://localhost:8080/"
        },
        "id": "LIo2qKpzykXw",
        "outputId": "bf166fcf-ffc1-4e6e-9a17-baf8dbcb70c4"
      },
      "execution_count": 78,
      "outputs": [
        {
          "output_type": "stream",
          "name": "stdout",
          "text": [
            "Enter A Number-44\n",
            "Its a negative number\n"
          ]
        }
      ]
    },
    {
      "cell_type": "markdown",
      "source": [
        "# Section B: Numpy"
      ],
      "metadata": {
        "id": "7PBjaBzbz_3N"
      }
    },
    {
      "cell_type": "markdown",
      "source": [
        "8.\tCreate:\n",
        "- A scalar using np.array(5)\n",
        "- A 1D array with values 1 to 5\n",
        "- A 2D array (2x3) with values from 10 to 60 in steps of 10\n"
      ],
      "metadata": {
        "id": "k8740ifO0EQh"
      }
    },
    {
      "cell_type": "code",
      "source": [
        "import numpy as np"
      ],
      "metadata": {
        "id": "0oV92N8_ztzJ"
      },
      "execution_count": 79,
      "outputs": []
    },
    {
      "cell_type": "code",
      "source": [
        "scalar=np.array(5)\n",
        "print(scalar)"
      ],
      "metadata": {
        "colab": {
          "base_uri": "https://localhost:8080/"
        },
        "id": "mK-uvmY31cAU",
        "outputId": "4a659940-46b9-456e-e36b-30ae1a09e454"
      },
      "execution_count": 82,
      "outputs": [
        {
          "output_type": "stream",
          "name": "stdout",
          "text": [
            "5\n"
          ]
        }
      ]
    },
    {
      "cell_type": "code",
      "source": [
        "_1d = np.array([1, 2, 3, 4, 5])\n",
        "print(_1d)"
      ],
      "metadata": {
        "colab": {
          "base_uri": "https://localhost:8080/"
        },
        "id": "-yp2ICQ51h66",
        "outputId": "b1748784-8b0f-4d46-f014-52e8bc0830f6"
      },
      "execution_count": 84,
      "outputs": [
        {
          "output_type": "stream",
          "name": "stdout",
          "text": [
            "[1 2 3 4 5]\n"
          ]
        }
      ]
    },
    {
      "cell_type": "code",
      "source": [
        "_2d=np.array([[1,2,3],[4,5,6]])\n",
        "print(_2d)"
      ],
      "metadata": {
        "colab": {
          "base_uri": "https://localhost:8080/"
        },
        "id": "McL_CC0g23Aa",
        "outputId": "9ac39a6c-a4bd-4ef2-a3d2-60e8a62a4061"
      },
      "execution_count": 86,
      "outputs": [
        {
          "output_type": "stream",
          "name": "stdout",
          "text": [
            "[[1 2 3]\n",
            " [4 5 6]]\n"
          ]
        }
      ]
    },
    {
      "cell_type": "markdown",
      "source": [
        "9.\tGenerate a 4x4 Numpy array of random integers between 0 and 100 using np.random.randint()."
      ],
      "metadata": {
        "id": "7Axf5M0T3SA_"
      }
    },
    {
      "cell_type": "code",
      "source": [
        "rand_array=np.random.randint(0, 100,size=(4,4))\n",
        "print(rand_array)"
      ],
      "metadata": {
        "colab": {
          "base_uri": "https://localhost:8080/"
        },
        "id": "FLjuF3533M__",
        "outputId": "e1ed7a4c-4610-460a-9752-ed3b3579f550"
      },
      "execution_count": 89,
      "outputs": [
        {
          "output_type": "stream",
          "name": "stdout",
          "text": [
            "[[95 66 21 29]\n",
            " [88 46 92 52]\n",
            " [78 86 77 44]\n",
            " [61 98 59 20]]\n"
          ]
        }
      ]
    },
    {
      "cell_type": "markdown",
      "source": [
        "10.\tCreate a 2D numpy array of shape (3x3). Convert it into a pandas DataFrame and add column names: 'A', 'B', 'C'."
      ],
      "metadata": {
        "id": "Gf6mVGZN3sOU"
      }
    },
    {
      "cell_type": "code",
      "source": [
        "import pandas as pd\n",
        "arr=np.array([[1, 2, 3],[4, 5, 6],[7, 8, 9]])\n",
        "df=pd.DataFrame(arr,columns=['A','B','C'])\n",
        "df"
      ],
      "metadata": {
        "colab": {
          "base_uri": "https://localhost:8080/",
          "height": 143
        },
        "id": "6LU2ka443e66",
        "outputId": "9b96b329-d0a3-4634-8cd2-bc7a0391366c"
      },
      "execution_count": 90,
      "outputs": [
        {
          "output_type": "execute_result",
          "data": {
            "text/plain": [
              "   A  B  C\n",
              "0  1  2  3\n",
              "1  4  5  6\n",
              "2  7  8  9"
            ],
            "text/html": [
              "\n",
              "  <div id=\"df-dc0bd8f8-50ae-4815-9b86-3f83e5c7e110\" class=\"colab-df-container\">\n",
              "    <div>\n",
              "<style scoped>\n",
              "    .dataframe tbody tr th:only-of-type {\n",
              "        vertical-align: middle;\n",
              "    }\n",
              "\n",
              "    .dataframe tbody tr th {\n",
              "        vertical-align: top;\n",
              "    }\n",
              "\n",
              "    .dataframe thead th {\n",
              "        text-align: right;\n",
              "    }\n",
              "</style>\n",
              "<table border=\"1\" class=\"dataframe\">\n",
              "  <thead>\n",
              "    <tr style=\"text-align: right;\">\n",
              "      <th></th>\n",
              "      <th>A</th>\n",
              "      <th>B</th>\n",
              "      <th>C</th>\n",
              "    </tr>\n",
              "  </thead>\n",
              "  <tbody>\n",
              "    <tr>\n",
              "      <th>0</th>\n",
              "      <td>1</td>\n",
              "      <td>2</td>\n",
              "      <td>3</td>\n",
              "    </tr>\n",
              "    <tr>\n",
              "      <th>1</th>\n",
              "      <td>4</td>\n",
              "      <td>5</td>\n",
              "      <td>6</td>\n",
              "    </tr>\n",
              "    <tr>\n",
              "      <th>2</th>\n",
              "      <td>7</td>\n",
              "      <td>8</td>\n",
              "      <td>9</td>\n",
              "    </tr>\n",
              "  </tbody>\n",
              "</table>\n",
              "</div>\n",
              "    <div class=\"colab-df-buttons\">\n",
              "\n",
              "  <div class=\"colab-df-container\">\n",
              "    <button class=\"colab-df-convert\" onclick=\"convertToInteractive('df-dc0bd8f8-50ae-4815-9b86-3f83e5c7e110')\"\n",
              "            title=\"Convert this dataframe to an interactive table.\"\n",
              "            style=\"display:none;\">\n",
              "\n",
              "  <svg xmlns=\"http://www.w3.org/2000/svg\" height=\"24px\" viewBox=\"0 -960 960 960\">\n",
              "    <path d=\"M120-120v-720h720v720H120Zm60-500h600v-160H180v160Zm220 220h160v-160H400v160Zm0 220h160v-160H400v160ZM180-400h160v-160H180v160Zm440 0h160v-160H620v160ZM180-180h160v-160H180v160Zm440 0h160v-160H620v160Z\"/>\n",
              "  </svg>\n",
              "    </button>\n",
              "\n",
              "  <style>\n",
              "    .colab-df-container {\n",
              "      display:flex;\n",
              "      gap: 12px;\n",
              "    }\n",
              "\n",
              "    .colab-df-convert {\n",
              "      background-color: #E8F0FE;\n",
              "      border: none;\n",
              "      border-radius: 50%;\n",
              "      cursor: pointer;\n",
              "      display: none;\n",
              "      fill: #1967D2;\n",
              "      height: 32px;\n",
              "      padding: 0 0 0 0;\n",
              "      width: 32px;\n",
              "    }\n",
              "\n",
              "    .colab-df-convert:hover {\n",
              "      background-color: #E2EBFA;\n",
              "      box-shadow: 0px 1px 2px rgba(60, 64, 67, 0.3), 0px 1px 3px 1px rgba(60, 64, 67, 0.15);\n",
              "      fill: #174EA6;\n",
              "    }\n",
              "\n",
              "    .colab-df-buttons div {\n",
              "      margin-bottom: 4px;\n",
              "    }\n",
              "\n",
              "    [theme=dark] .colab-df-convert {\n",
              "      background-color: #3B4455;\n",
              "      fill: #D2E3FC;\n",
              "    }\n",
              "\n",
              "    [theme=dark] .colab-df-convert:hover {\n",
              "      background-color: #434B5C;\n",
              "      box-shadow: 0px 1px 3px 1px rgba(0, 0, 0, 0.15);\n",
              "      filter: drop-shadow(0px 1px 2px rgba(0, 0, 0, 0.3));\n",
              "      fill: #FFFFFF;\n",
              "    }\n",
              "  </style>\n",
              "\n",
              "    <script>\n",
              "      const buttonEl =\n",
              "        document.querySelector('#df-dc0bd8f8-50ae-4815-9b86-3f83e5c7e110 button.colab-df-convert');\n",
              "      buttonEl.style.display =\n",
              "        google.colab.kernel.accessAllowed ? 'block' : 'none';\n",
              "\n",
              "      async function convertToInteractive(key) {\n",
              "        const element = document.querySelector('#df-dc0bd8f8-50ae-4815-9b86-3f83e5c7e110');\n",
              "        const dataTable =\n",
              "          await google.colab.kernel.invokeFunction('convertToInteractive',\n",
              "                                                    [key], {});\n",
              "        if (!dataTable) return;\n",
              "\n",
              "        const docLinkHtml = 'Like what you see? Visit the ' +\n",
              "          '<a target=\"_blank\" href=https://colab.research.google.com/notebooks/data_table.ipynb>data table notebook</a>'\n",
              "          + ' to learn more about interactive tables.';\n",
              "        element.innerHTML = '';\n",
              "        dataTable['output_type'] = 'display_data';\n",
              "        await google.colab.output.renderOutput(dataTable, element);\n",
              "        const docLink = document.createElement('div');\n",
              "        docLink.innerHTML = docLinkHtml;\n",
              "        element.appendChild(docLink);\n",
              "      }\n",
              "    </script>\n",
              "  </div>\n",
              "\n",
              "\n",
              "    <div id=\"df-cdd7a5a2-4c7d-43de-a0e9-3735efb13ec5\">\n",
              "      <button class=\"colab-df-quickchart\" onclick=\"quickchart('df-cdd7a5a2-4c7d-43de-a0e9-3735efb13ec5')\"\n",
              "                title=\"Suggest charts\"\n",
              "                style=\"display:none;\">\n",
              "\n",
              "<svg xmlns=\"http://www.w3.org/2000/svg\" height=\"24px\"viewBox=\"0 0 24 24\"\n",
              "     width=\"24px\">\n",
              "    <g>\n",
              "        <path d=\"M19 3H5c-1.1 0-2 .9-2 2v14c0 1.1.9 2 2 2h14c1.1 0 2-.9 2-2V5c0-1.1-.9-2-2-2zM9 17H7v-7h2v7zm4 0h-2V7h2v10zm4 0h-2v-4h2v4z\"/>\n",
              "    </g>\n",
              "</svg>\n",
              "      </button>\n",
              "\n",
              "<style>\n",
              "  .colab-df-quickchart {\n",
              "      --bg-color: #E8F0FE;\n",
              "      --fill-color: #1967D2;\n",
              "      --hover-bg-color: #E2EBFA;\n",
              "      --hover-fill-color: #174EA6;\n",
              "      --disabled-fill-color: #AAA;\n",
              "      --disabled-bg-color: #DDD;\n",
              "  }\n",
              "\n",
              "  [theme=dark] .colab-df-quickchart {\n",
              "      --bg-color: #3B4455;\n",
              "      --fill-color: #D2E3FC;\n",
              "      --hover-bg-color: #434B5C;\n",
              "      --hover-fill-color: #FFFFFF;\n",
              "      --disabled-bg-color: #3B4455;\n",
              "      --disabled-fill-color: #666;\n",
              "  }\n",
              "\n",
              "  .colab-df-quickchart {\n",
              "    background-color: var(--bg-color);\n",
              "    border: none;\n",
              "    border-radius: 50%;\n",
              "    cursor: pointer;\n",
              "    display: none;\n",
              "    fill: var(--fill-color);\n",
              "    height: 32px;\n",
              "    padding: 0;\n",
              "    width: 32px;\n",
              "  }\n",
              "\n",
              "  .colab-df-quickchart:hover {\n",
              "    background-color: var(--hover-bg-color);\n",
              "    box-shadow: 0 1px 2px rgba(60, 64, 67, 0.3), 0 1px 3px 1px rgba(60, 64, 67, 0.15);\n",
              "    fill: var(--button-hover-fill-color);\n",
              "  }\n",
              "\n",
              "  .colab-df-quickchart-complete:disabled,\n",
              "  .colab-df-quickchart-complete:disabled:hover {\n",
              "    background-color: var(--disabled-bg-color);\n",
              "    fill: var(--disabled-fill-color);\n",
              "    box-shadow: none;\n",
              "  }\n",
              "\n",
              "  .colab-df-spinner {\n",
              "    border: 2px solid var(--fill-color);\n",
              "    border-color: transparent;\n",
              "    border-bottom-color: var(--fill-color);\n",
              "    animation:\n",
              "      spin 1s steps(1) infinite;\n",
              "  }\n",
              "\n",
              "  @keyframes spin {\n",
              "    0% {\n",
              "      border-color: transparent;\n",
              "      border-bottom-color: var(--fill-color);\n",
              "      border-left-color: var(--fill-color);\n",
              "    }\n",
              "    20% {\n",
              "      border-color: transparent;\n",
              "      border-left-color: var(--fill-color);\n",
              "      border-top-color: var(--fill-color);\n",
              "    }\n",
              "    30% {\n",
              "      border-color: transparent;\n",
              "      border-left-color: var(--fill-color);\n",
              "      border-top-color: var(--fill-color);\n",
              "      border-right-color: var(--fill-color);\n",
              "    }\n",
              "    40% {\n",
              "      border-color: transparent;\n",
              "      border-right-color: var(--fill-color);\n",
              "      border-top-color: var(--fill-color);\n",
              "    }\n",
              "    60% {\n",
              "      border-color: transparent;\n",
              "      border-right-color: var(--fill-color);\n",
              "    }\n",
              "    80% {\n",
              "      border-color: transparent;\n",
              "      border-right-color: var(--fill-color);\n",
              "      border-bottom-color: var(--fill-color);\n",
              "    }\n",
              "    90% {\n",
              "      border-color: transparent;\n",
              "      border-bottom-color: var(--fill-color);\n",
              "    }\n",
              "  }\n",
              "</style>\n",
              "\n",
              "      <script>\n",
              "        async function quickchart(key) {\n",
              "          const quickchartButtonEl =\n",
              "            document.querySelector('#' + key + ' button');\n",
              "          quickchartButtonEl.disabled = true;  // To prevent multiple clicks.\n",
              "          quickchartButtonEl.classList.add('colab-df-spinner');\n",
              "          try {\n",
              "            const charts = await google.colab.kernel.invokeFunction(\n",
              "                'suggestCharts', [key], {});\n",
              "          } catch (error) {\n",
              "            console.error('Error during call to suggestCharts:', error);\n",
              "          }\n",
              "          quickchartButtonEl.classList.remove('colab-df-spinner');\n",
              "          quickchartButtonEl.classList.add('colab-df-quickchart-complete');\n",
              "        }\n",
              "        (() => {\n",
              "          let quickchartButtonEl =\n",
              "            document.querySelector('#df-cdd7a5a2-4c7d-43de-a0e9-3735efb13ec5 button');\n",
              "          quickchartButtonEl.style.display =\n",
              "            google.colab.kernel.accessAllowed ? 'block' : 'none';\n",
              "        })();\n",
              "      </script>\n",
              "    </div>\n",
              "\n",
              "  <div id=\"id_906cd8d3-2440-4852-b5b9-367d099ecfa4\">\n",
              "    <style>\n",
              "      .colab-df-generate {\n",
              "        background-color: #E8F0FE;\n",
              "        border: none;\n",
              "        border-radius: 50%;\n",
              "        cursor: pointer;\n",
              "        display: none;\n",
              "        fill: #1967D2;\n",
              "        height: 32px;\n",
              "        padding: 0 0 0 0;\n",
              "        width: 32px;\n",
              "      }\n",
              "\n",
              "      .colab-df-generate:hover {\n",
              "        background-color: #E2EBFA;\n",
              "        box-shadow: 0px 1px 2px rgba(60, 64, 67, 0.3), 0px 1px 3px 1px rgba(60, 64, 67, 0.15);\n",
              "        fill: #174EA6;\n",
              "      }\n",
              "\n",
              "      [theme=dark] .colab-df-generate {\n",
              "        background-color: #3B4455;\n",
              "        fill: #D2E3FC;\n",
              "      }\n",
              "\n",
              "      [theme=dark] .colab-df-generate:hover {\n",
              "        background-color: #434B5C;\n",
              "        box-shadow: 0px 1px 3px 1px rgba(0, 0, 0, 0.15);\n",
              "        filter: drop-shadow(0px 1px 2px rgba(0, 0, 0, 0.3));\n",
              "        fill: #FFFFFF;\n",
              "      }\n",
              "    </style>\n",
              "    <button class=\"colab-df-generate\" onclick=\"generateWithVariable('df')\"\n",
              "            title=\"Generate code using this dataframe.\"\n",
              "            style=\"display:none;\">\n",
              "\n",
              "  <svg xmlns=\"http://www.w3.org/2000/svg\" height=\"24px\"viewBox=\"0 0 24 24\"\n",
              "       width=\"24px\">\n",
              "    <path d=\"M7,19H8.4L18.45,9,17,7.55,7,17.6ZM5,21V16.75L18.45,3.32a2,2,0,0,1,2.83,0l1.4,1.43a1.91,1.91,0,0,1,.58,1.4,1.91,1.91,0,0,1-.58,1.4L9.25,21ZM18.45,9,17,7.55Zm-12,3A5.31,5.31,0,0,0,4.9,8.1,5.31,5.31,0,0,0,1,6.5,5.31,5.31,0,0,0,4.9,4.9,5.31,5.31,0,0,0,6.5,1,5.31,5.31,0,0,0,8.1,4.9,5.31,5.31,0,0,0,12,6.5,5.46,5.46,0,0,0,6.5,12Z\"/>\n",
              "  </svg>\n",
              "    </button>\n",
              "    <script>\n",
              "      (() => {\n",
              "      const buttonEl =\n",
              "        document.querySelector('#id_906cd8d3-2440-4852-b5b9-367d099ecfa4 button.colab-df-generate');\n",
              "      buttonEl.style.display =\n",
              "        google.colab.kernel.accessAllowed ? 'block' : 'none';\n",
              "\n",
              "      buttonEl.onclick = () => {\n",
              "        google.colab.notebook.generateWithVariable('df');\n",
              "      }\n",
              "      })();\n",
              "    </script>\n",
              "  </div>\n",
              "\n",
              "    </div>\n",
              "  </div>\n"
            ],
            "application/vnd.google.colaboratory.intrinsic+json": {
              "type": "dataframe",
              "variable_name": "df",
              "summary": "{\n  \"name\": \"df\",\n  \"rows\": 3,\n  \"fields\": [\n    {\n      \"column\": \"A\",\n      \"properties\": {\n        \"dtype\": \"number\",\n        \"std\": 3,\n        \"min\": 1,\n        \"max\": 7,\n        \"num_unique_values\": 3,\n        \"samples\": [\n          1,\n          4,\n          7\n        ],\n        \"semantic_type\": \"\",\n        \"description\": \"\"\n      }\n    },\n    {\n      \"column\": \"B\",\n      \"properties\": {\n        \"dtype\": \"number\",\n        \"std\": 3,\n        \"min\": 2,\n        \"max\": 8,\n        \"num_unique_values\": 3,\n        \"samples\": [\n          2,\n          5,\n          8\n        ],\n        \"semantic_type\": \"\",\n        \"description\": \"\"\n      }\n    },\n    {\n      \"column\": \"C\",\n      \"properties\": {\n        \"dtype\": \"number\",\n        \"std\": 3,\n        \"min\": 3,\n        \"max\": 9,\n        \"num_unique_values\": 3,\n        \"samples\": [\n          3,\n          6,\n          9\n        ],\n        \"semantic_type\": \"\",\n        \"description\": \"\"\n      }\n    }\n  ]\n}"
            }
          },
          "metadata": {},
          "execution_count": 90
        }
      ]
    },
    {
      "cell_type": "markdown",
      "source": [
        "# Section C: Exploring Pandas\n",
        "11.\tCreate a small DataFrame manually with 10 rows and columns: 'Name', 'Age', 'City', and 'Salary'. Then:\n",
        "- Use .info(), .describe()\n",
        "- Select 'Name' and 'City' columns\n",
        "- Drop 'City' column\n",
        "- Fill any missing values in 'Salary' column with the mean\n",
        "- Remove any duplicate rows\n"
      ],
      "metadata": {
        "id": "Qzm-BqQS4eaD"
      }
    },
    {
      "cell_type": "code",
      "source": [
        "data={\n",
        "    'Name': ['Anoop', 'Bobby', 'mohan', 'neeraj', 'raj', 'shukla', 'mahananda', 'ram', 'sita', 'raju'],\n",
        "    'Age': [25, 30, 35, 40, 28, 50, 45, 33, 29, 25],\n",
        "    'City': ['Delhi', 'Mumbai', 'Kolkata', 'Chennai', 'Delhi', 'Mumbai', 'Chennai', 'Kolkata', 'Delhi', 'Delhi'],\n",
        "    'Salary': [50000, 60000, 40000, 70000, 52000, np.nan, 66000, 62000, 58000, 50000]\n",
        "}\n",
        "df = pd.DataFrame(data)\n",
        "print(df.info())\n",
        "print(df.describe())\n",
        "\n",
        "# Select 'Name' and 'City' columns\n",
        "name_city = df[['Name', 'City']]\n",
        "print(name_city)\n",
        "\n",
        "# Drop 'City' column\n",
        "df_dropped = df.drop('City', axis=1)\n",
        "print(df_dropped)\n",
        "\n",
        "# Fill missing 'Salary' values with the mean of Salary column\n",
        "salary_mean = df['Salary'].mean()\n",
        "df['Salary'].fillna(salary_mean, inplace=True)\n",
        "print(df)\n",
        "\n",
        "# Remove duplicate rows\n",
        "df_no_duplicates = df.drop_duplicates()\n",
        "print(df_no_duplicates)\n"
      ],
      "metadata": {
        "colab": {
          "base_uri": "https://localhost:8080/"
        },
        "id": "GdqtKgF34aQL",
        "outputId": "e54fa175-1b21-4d89-f179-c3f131b19a20"
      },
      "execution_count": 91,
      "outputs": [
        {
          "output_type": "stream",
          "name": "stdout",
          "text": [
            "<class 'pandas.core.frame.DataFrame'>\n",
            "RangeIndex: 10 entries, 0 to 9\n",
            "Data columns (total 4 columns):\n",
            " #   Column  Non-Null Count  Dtype  \n",
            "---  ------  --------------  -----  \n",
            " 0   Name    10 non-null     object \n",
            " 1   Age     10 non-null     int64  \n",
            " 2   City    10 non-null     object \n",
            " 3   Salary  9 non-null      float64\n",
            "dtypes: float64(1), int64(1), object(2)\n",
            "memory usage: 452.0+ bytes\n",
            "None\n",
            "             Age        Salary\n",
            "count  10.000000      9.000000\n",
            "mean   34.000000  56444.444444\n",
            "std     8.524475   9315.459075\n",
            "min    25.000000  40000.000000\n",
            "25%    28.250000  50000.000000\n",
            "50%    31.500000  58000.000000\n",
            "75%    38.750000  62000.000000\n",
            "max    50.000000  70000.000000\n",
            "        Name     City\n",
            "0      Anoop    Delhi\n",
            "1      Bobby   Mumbai\n",
            "2      mohan  Kolkata\n",
            "3     neeraj  Chennai\n",
            "4        raj    Delhi\n",
            "5     shukla   Mumbai\n",
            "6  mahananda  Chennai\n",
            "7        ram  Kolkata\n",
            "8       sita    Delhi\n",
            "9       raju    Delhi\n",
            "        Name  Age   Salary\n",
            "0      Anoop   25  50000.0\n",
            "1      Bobby   30  60000.0\n",
            "2      mohan   35  40000.0\n",
            "3     neeraj   40  70000.0\n",
            "4        raj   28  52000.0\n",
            "5     shukla   50      NaN\n",
            "6  mahananda   45  66000.0\n",
            "7        ram   33  62000.0\n",
            "8       sita   29  58000.0\n",
            "9       raju   25  50000.0\n",
            "        Name  Age     City        Salary\n",
            "0      Anoop   25    Delhi  50000.000000\n",
            "1      Bobby   30   Mumbai  60000.000000\n",
            "2      mohan   35  Kolkata  40000.000000\n",
            "3     neeraj   40  Chennai  70000.000000\n",
            "4        raj   28    Delhi  52000.000000\n",
            "5     shukla   50   Mumbai  56444.444444\n",
            "6  mahananda   45  Chennai  66000.000000\n",
            "7        ram   33  Kolkata  62000.000000\n",
            "8       sita   29    Delhi  58000.000000\n",
            "9       raju   25    Delhi  50000.000000\n",
            "        Name  Age     City        Salary\n",
            "0      Anoop   25    Delhi  50000.000000\n",
            "1      Bobby   30   Mumbai  60000.000000\n",
            "2      mohan   35  Kolkata  40000.000000\n",
            "3     neeraj   40  Chennai  70000.000000\n",
            "4        raj   28    Delhi  52000.000000\n",
            "5     shukla   50   Mumbai  56444.444444\n",
            "6  mahananda   45  Chennai  66000.000000\n",
            "7        ram   33  Kolkata  62000.000000\n",
            "8       sita   29    Delhi  58000.000000\n",
            "9       raju   25    Delhi  50000.000000\n"
          ]
        },
        {
          "output_type": "stream",
          "name": "stderr",
          "text": [
            "/tmp/ipython-input-1761291012.py:21: FutureWarning: A value is trying to be set on a copy of a DataFrame or Series through chained assignment using an inplace method.\n",
            "The behavior will change in pandas 3.0. This inplace method will never work because the intermediate object on which we are setting values always behaves as a copy.\n",
            "\n",
            "For example, when doing 'df[col].method(value, inplace=True)', try using 'df.method({col: value}, inplace=True)' or df[col] = df[col].method(value) instead, to perform the operation inplace on the original object.\n",
            "\n",
            "\n",
            "  df['Salary'].fillna(salary_mean, inplace=True)\n"
          ]
        }
      ]
    },
    {
      "cell_type": "code",
      "source": [],
      "metadata": {
        "id": "nWE7arCG54aT"
      },
      "execution_count": null,
      "outputs": []
    }
  ]
}